{
  "nbformat": 4,
  "nbformat_minor": 0,
  "metadata": {
    "colab": {
      "name": "Semi-Supervised Clustering",
      "provenance": [],
      "collapsed_sections": [],
      "authorship_tag": "ABX9TyOctsJVNbCHqiqqRDt0+i95",
      "include_colab_link": true
    },
    "kernelspec": {
      "name": "python3",
      "display_name": "Python 3"
    },
    "language_info": {
      "name": "python"
    }
  },
  "cells": [
    {
      "cell_type": "markdown",
      "metadata": {
        "id": "view-in-github",
        "colab_type": "text"
      },
      "source": [
        "<a href=\"https://colab.research.google.com/github/CaptainOmerica/OpenCVPython/blob/master/Semi_Supervised_Clustering.ipynb\" target=\"_parent\"><img src=\"https://colab.research.google.com/assets/colab-badge.svg\" alt=\"Open In Colab\"/></a>"
      ]
    },
    {
      "cell_type": "markdown",
      "metadata": {
        "id": "vaMyi07VLZes"
      },
      "source": [
        "# Mounting Google Drive\n",
        "(You don't need to run this section) "
      ]
    },
    {
      "cell_type": "code",
      "metadata": {
        "colab": {
          "base_uri": "https://localhost:8080/"
        },
        "id": "NeIlCLStb5K5",
        "outputId": "8634af98-9344-4bdd-b85c-a21b67a33c3c"
      },
      "source": [
        "from google.colab import drive\n",
        "drive.mount('/content/drive')"
      ],
      "execution_count": null,
      "outputs": [
        {
          "output_type": "stream",
          "name": "stdout",
          "text": [
            "Mounted at /content/drive\n"
          ]
        }
      ]
    },
    {
      "cell_type": "markdown",
      "metadata": {
        "id": "jpWXVK6_LfRD"
      },
      "source": [
        "Unzipping and extracting files into a Folder"
      ]
    },
    {
      "cell_type": "code",
      "metadata": {
        "id": "pqY3smcScC0V"
      },
      "source": [
        "#Importing the Libraries\n",
        "import zipfile\n",
        "import os\n",
        "\n",
        "zip_ref=zipfile.ZipFile('/content/drive/MyDrive/worm_image_data.zip', 'r') #Opens the zip file in read mode\n",
        "zip_ref.extractall('/WormZ') #Extracts the files into the /Temporary folder\n",
        "zip_ref.close()"
      ],
      "execution_count": null,
      "outputs": []
    },
    {
      "cell_type": "markdown",
      "metadata": {
        "id": "IKawokEUfD7X"
      },
      "source": [
        "# **Unsupervised Clustering of Worm Data** ⚛"
      ]
    },
    {
      "cell_type": "markdown",
      "metadata": {
        "id": "XVVFQ2-j3oQG"
      },
      "source": [
        "Workflow Pipeline:\n",
        "1.   Import Images into an Image Array (this took me a day ;-;)\n",
        "2.   Dimensionality Reduction (using pre-trained VGG16 network from Keras API)\n",
        "3. K- Means Clustering (with K=6; that's roughly the number of classes we came up with)\n",
        "\n"
      ]
    },
    {
      "cell_type": "markdown",
      "metadata": {
        "id": "XznyyMAmhYpp"
      },
      "source": [
        "Importing Relevant Libraries"
      ]
    },
    {
      "cell_type": "code",
      "metadata": {
        "id": "4-dL34oIdffu",
        "colab": {
          "base_uri": "https://localhost:8080/"
        },
        "outputId": "6c2b7475-9e5f-43f2-9a5e-09c6c94798e7"
      },
      "source": [
        "from sklearn.cluster import KMeans\n",
        "import matplotlib.pyplot as plt\n",
        "import numpy as np\n",
        "import tensorflow as tf\n",
        "import cv2\n",
        "from keras.preprocessing.image import load_img\n",
        "from keras.preprocessing.image import img_to_array\n",
        "from keras.preprocessing.image import array_to_img\n",
        "import keras\n",
        "import os"
      ],
      "execution_count": 1,
      "outputs": [
        {
          "output_type": "stream",
          "name": "stderr",
          "text": [
            "Using TensorFlow backend.\n"
          ]
        }
      ]
    },
    {
      "cell_type": "markdown",
      "metadata": {
        "id": "l6vyvoJ5hdJb"
      },
      "source": [
        "Generating an list of Image titles in the worm folder"
      ]
    },
    {
      "cell_type": "code",
      "metadata": {
        "colab": {
          "base_uri": "https://localhost:8080/"
        },
        "id": "oDSpIaCSguY1",
        "outputId": "0ac0d03b-16cf-491e-88df-bafa8915e3fb"
      },
      "source": [
        "path='/WormZ/image_data3/worm/'\n",
        "worm_pics=[]\n",
        "for filename in os.listdir(path):\n",
        "    if filename.endswith(\"png\"): \n",
        "        # Your code comes here such as \n",
        "        worm_pics.append(filename)\n",
        "print('Total Worm Pictures: '+ str(len(worm_pics)))"
      ],
      "execution_count": 2,
      "outputs": [
        {
          "output_type": "stream",
          "name": "stdout",
          "text": [
            "Total Worm Pictures: 7929\n"
          ]
        }
      ]
    },
    {
      "cell_type": "markdown",
      "metadata": {
        "id": "KdXtxAuuhx-y"
      },
      "source": [
        "Using *worm_pics* to access each Image and reading it with Open CV into an **\"Image Array\"**\n",
        "\n",
        "Reference: https://github.com/beleidy/unsupervised-image-clustering/blob/master/capstone.ipynb\n",
        "(But I've modified his function to meet our needs)"
      ]
    },
    {
      "cell_type": "code",
      "metadata": {
        "id": "qzHLxDC6V8Pa"
      },
      "source": [
        "#Defining a Function\n",
        "# Function returns an array of images whoose filenames start with a given set of characters\n",
        "# after resizing them to 224 x 224\n",
        "\n",
        "def load_images(codes):\n",
        "  images=[]\n",
        "  # Define empty arrays where we will store our images\n",
        "  for file in codes:               \n",
        "    # build file path\n",
        "    file_path = path+file\n",
        "    #Read the image\n",
        "    image = cv2.imread(file_path)\n",
        "    # Resize it to 224 x 224 for use with VGG16 model\n",
        "    image = cv2.resize(image, (224,224))\n",
        "    #Now we add it to our array\n",
        "    images.append(image)\n",
        "  return images"
      ],
      "execution_count": 3,
      "outputs": []
    },
    {
      "cell_type": "markdown",
      "metadata": {
        "id": "SbG_mi-GiHS5"
      },
      "source": [
        "Using the function *load_images()* on *worm_pics*"
      ]
    },
    {
      "cell_type": "code",
      "metadata": {
        "id": "CxVjoLSSf3wT"
      },
      "source": [
        "worm_pix=load_images(worm_pics)"
      ],
      "execution_count": 4,
      "outputs": []
    },
    {
      "cell_type": "markdown",
      "metadata": {
        "id": "ALKkUVHoijTB"
      },
      "source": [
        "Trying to Plot an Image from *worm_pix*"
      ]
    },
    {
      "cell_type": "code",
      "metadata": {
        "colab": {
          "base_uri": "https://localhost:8080/",
          "height": 286
        },
        "id": "dX9Bza-1iJxk",
        "outputId": "74f41c19-79bf-45b6-f13e-d4ebb765e933"
      },
      "source": [
        "plt.imshow(worm_pix[75])"
      ],
      "execution_count": 5,
      "outputs": [
        {
          "output_type": "execute_result",
          "data": {
            "text/plain": [
              "<matplotlib.image.AxesImage at 0x7fbbef76cd90>"
            ]
          },
          "metadata": {},
          "execution_count": 5
        },
        {
          "output_type": "display_data",
          "data": {
            "image/png": "[encoded data removed]",
            "text/plain": [
              "<Figure size 432x288 with 1 Axes>"
            ]
          },
          "metadata": {
            "needs_background": "light"
          }
        }
      ]
    },
    {
      "cell_type": "markdown",
      "metadata": {
        "id": "XyJNTqpBivQq"
      },
      "source": [
        "Normalizing Image (Dividing by 255) so that it can be fed into VGG16"
      ]
    },
    {
      "cell_type": "code",
      "metadata": {
        "id": "xNdHm8-6i3aG"
      },
      "source": [
        "def normalise_images(images):\n",
        "\n",
        "    # Convert to numpy arrays\n",
        "    images = np.array(images, dtype=np.float32)\n",
        "\n",
        "    # Normalise the images\n",
        "    images /= 255\n",
        "    \n",
        "    return images"
      ],
      "execution_count": 6,
      "outputs": []
    },
    {
      "cell_type": "code",
      "metadata": {
        "id": "uAHGRUQ1jnXA"
      },
      "source": [
        "worm_pix_normd=normalise_images(worm_pix)"
      ],
      "execution_count": 7,
      "outputs": []
    },
    {
      "cell_type": "code",
      "metadata": {
        "colab": {
          "base_uri": "https://localhost:8080/",
          "height": 286
        },
        "id": "mJbBHKnmjrke",
        "outputId": "15fc5392-04d6-4ab1-a0df-01bb7f85950b"
      },
      "source": [
        "plt.imshow(worm_pix_normd[75])\n"
      ],
      "execution_count": 8,
      "outputs": [
        {
          "output_type": "execute_result",
          "data": {
            "text/plain": [
              "<matplotlib.image.AxesImage at 0x7fbbef268210>"
            ]
          },
          "metadata": {},
          "execution_count": 8
        },
        {
          "output_type": "display_data",
          "data": {
            "image/png": "[encoded data removed]",
            "text/plain": [
              "<Figure size 432x288 with 1 Axes>"
            ]
          },
          "metadata": {
            "needs_background": "light"
          }
        }
      ]
    },
    {
      "cell_type": "markdown",
      "metadata": {
        "id": "GNLRYo4Roi81"
      },
      "source": [
        "**Loading the VGG16 model for Feature Extraction**\n",
        "\n",
        "Reference: https://franky07724-57962.medium.com/using-keras-pre-trained-models-for-feature-extraction-in-image-clustering-a142c6cdf5b1\n",
        "\n",
        "**Why this step?** To extract features out of the worm pictures through the layers of VGG16 model. This will help reduce dimensionality and can then be used for K-means"
      ]
    },
    {
      "cell_type": "code",
      "metadata": {
        "id": "H-5lQKTfkaaY"
      },
      "source": [
        "from tensorflow.keras.applications.vgg16 import VGG16\n",
        "from tensorflow.keras.applications.vgg16 import preprocess_input\n"
      ],
      "execution_count": 9,
      "outputs": []
    },
    {
      "cell_type": "code",
      "metadata": {
        "colab": {
          "base_uri": "https://localhost:8080/"
        },
        "id": "3qEIkqMJwA4w",
        "outputId": "a74e798b-4e36-48e6-8d57-8792dcf0ff80"
      },
      "source": [
        "# Load the models with ImageNet weights\n",
        "model = VGG16(weights='imagenet', include_top=False)\n",
        "model.summary()\n"
      ],
      "execution_count": 10,
      "outputs": [
        {
          "output_type": "stream",
          "name": "stdout",
          "text": [
            "Model: \"vgg16\"\n",
            "_________________________________________________________________\n",
            "Layer (type)                 Output Shape              Param #   \n",
            "=================================================================\n",
            "input_1 (InputLayer)         [(None, None, None, 3)]   0         \n",
            "_________________________________________________________________\n",
            "block1_conv1 (Conv2D)        (None, None, None, 64)    1792      \n",
            "_________________________________________________________________\n",
            "block1_conv2 (Conv2D)        (None, None, None, 64)    36928     \n",
            "_________________________________________________________________\n",
            "block1_pool (MaxPooling2D)   (None, None, None, 64)    0         \n",
            "_________________________________________________________________\n",
            "block2_conv1 (Conv2D)        (None, None, None, 128)   73856     \n",
            "_________________________________________________________________\n",
            "block2_conv2 (Conv2D)        (None, None, None, 128)   147584    \n",
            "_________________________________________________________________\n",
            "block2_pool (MaxPooling2D)   (None, None, None, 128)   0         \n",
            "_________________________________________________________________\n",
            "block3_conv1 (Conv2D)        (None, None, None, 256)   295168    \n",
            "_________________________________________________________________\n",
            "block3_conv2 (Conv2D)        (None, None, None, 256)   590080    \n",
            "_________________________________________________________________\n",
            "block3_conv3 (Conv2D)        (None, None, None, 256)   590080    \n",
            "_________________________________________________________________\n",
            "block3_pool (MaxPooling2D)   (None, None, None, 256)   0         \n",
            "_________________________________________________________________\n",
            "block4_conv1 (Conv2D)        (None, None, None, 512)   1180160   \n",
            "_________________________________________________________________\n",
            "block4_conv2 (Conv2D)        (None, None, None, 512)   2359808   \n",
            "_________________________________________________________________\n",
            "block4_conv3 (Conv2D)        (None, None, None, 512)   2359808   \n",
            "_________________________________________________________________\n",
            "block4_pool (MaxPooling2D)   (None, None, None, 512)   0         \n",
            "_________________________________________________________________\n",
            "block5_conv1 (Conv2D)        (None, None, None, 512)   2359808   \n",
            "_________________________________________________________________\n",
            "block5_conv2 (Conv2D)        (None, None, None, 512)   2359808   \n",
            "_________________________________________________________________\n",
            "block5_conv3 (Conv2D)        (None, None, None, 512)   2359808   \n",
            "_________________________________________________________________\n",
            "block5_pool (MaxPooling2D)   (None, None, None, 512)   0         \n",
            "=================================================================\n",
            "Total params: 14,714,688\n",
            "Trainable params: 14,714,688\n",
            "Non-trainable params: 0\n",
            "_________________________________________________________________\n"
          ]
        }
      ]
    },
    {
      "cell_type": "markdown",
      "metadata": {
        "id": "qpUxRBxvjAlJ"
      },
      "source": [
        "Proving the Dimensionality Reduction by feeding an Image to the VGG16 Network for Feature Extraction"
      ]
    },
    {
      "cell_type": "code",
      "metadata": {
        "colab": {
          "base_uri": "https://localhost:8080/"
        },
        "id": "Ioj5MMymyBak",
        "outputId": "83e418b6-9aa6-4eea-eb6c-4726dd2b96c2"
      },
      "source": [
        "vgg16_feature_list = []\n",
        "\n",
        "pic=worm_pix_normd[2]\n",
        "pic = np.expand_dims(pic, axis=0)\n",
        "print('Original Dimensions/image:' + str(pic.size))\n",
        "vgg16_feature = model.predict(pic)\n",
        "vgg16_feature_np = np.array(vgg16_feature)\n",
        "print('Reduced Features/image (with VGG16): ' +str(vgg16_feature_np.size))\n"
      ],
      "execution_count": 11,
      "outputs": [
        {
          "output_type": "stream",
          "name": "stdout",
          "text": [
            "Original Dimensions/image:150528\n",
            "Reduced Features/image (with VGG16): 25088\n"
          ]
        }
      ]
    },
    {
      "cell_type": "markdown",
      "metadata": {
        "id": "OsbWlTNVl_5B"
      },
      "source": [
        "**Conclusion:** The VGG16 network layers do perform some kind of feature extraction from the image..."
      ]
    },
    {
      "cell_type": "markdown",
      "metadata": {
        "id": "BYO_-HqFjKmD"
      },
      "source": [
        "\n",
        "\n",
        "# Extracting Features \n",
        "I'm only extracting features out of the first 500 pictures here because the feature-extraction process takes a lot of time. I tried training it over all 7929 worm pictures and it took an hour... and then my Colab crashed...\n",
        "\n",
        "**Note:** This will take about 4 minutes to Train..."
      ]
    },
    {
      "cell_type": "code",
      "metadata": {
        "id": "xYHTEZXo1k19"
      },
      "source": [
        "#Feature Extraction on first 500 pictures\n",
        "for pic in worm_pix_normd[0:500]:\n",
        "  pic = np.expand_dims(pic, axis=0)\n",
        "  vgg16_feature = model.predict(pic)\n",
        "  vgg16_feature_np = np.array(vgg16_feature)\n",
        "  vgg16_feature_list.append(vgg16_feature_np.flatten())"
      ],
      "execution_count": 12,
      "outputs": []
    },
    {
      "cell_type": "markdown",
      "metadata": {
        "id": "2R4IeKCZk1u6"
      },
      "source": [
        "This is the new Image List with extracted Features"
      ]
    },
    {
      "cell_type": "code",
      "metadata": {
        "colab": {
          "base_uri": "https://localhost:8080/"
        },
        "id": "0kpsAD5cFVlc",
        "outputId": "49b6c5d1-7f22-4861-afa5-f9089de0ed73"
      },
      "source": [
        "vgg16_feature_list_np = np.array(vgg16_feature_list)\n",
        "vgg16_feature_list_np"
      ],
      "execution_count": 13,
      "outputs": [
        {
          "output_type": "execute_result",
          "data": {
            "text/plain": [
              "array([[0.17208861, 0.        , 0.        , ..., 0.        , 0.58779657,\n",
              "        0.        ],\n",
              "       [0.12833229, 0.        , 0.        , ..., 0.        , 0.581197  ,\n",
              "        0.        ],\n",
              "       [0.10144788, 0.        , 0.        , ..., 0.        , 0.58034265,\n",
              "        0.        ],\n",
              "       ...,\n",
              "       [0.10796066, 0.        , 0.        , ..., 0.        , 0.5784899 ,\n",
              "        0.        ],\n",
              "       [0.10412148, 0.        , 0.        , ..., 0.        , 0.5695643 ,\n",
              "        0.        ],\n",
              "       [0.11709158, 0.        , 0.        , ..., 0.        , 0.5751245 ,\n",
              "        0.        ]], dtype=float32)"
            ]
          },
          "metadata": {},
          "execution_count": 13
        }
      ]
    },
    {
      "cell_type": "code",
      "metadata": {
        "id": "TZ75GgEdE6xh"
      },
      "source": [
        "kmeans = KMeans(n_clusters=6, random_state=0).fit(vgg16_feature_list_np)"
      ],
      "execution_count": 14,
      "outputs": []
    },
    {
      "cell_type": "code",
      "metadata": {
        "id": "r4SEn4JxI8vV",
        "colab": {
          "base_uri": "https://localhost:8080/"
        },
        "outputId": "8c53f6e1-9c07-47c0-b7c3-8c98dcd69552"
      },
      "source": [
        "kmeans"
      ],
      "execution_count": 15,
      "outputs": [
        {
          "output_type": "execute_result",
          "data": {
            "text/plain": [
              "KMeans(algorithm='auto', copy_x=True, init='k-means++', max_iter=300,\n",
              "       n_clusters=6, n_init=10, n_jobs=None, precompute_distances='auto',\n",
              "       random_state=0, tol=0.0001, verbose=0)"
            ]
          },
          "metadata": {},
          "execution_count": 15
        }
      ]
    },
    {
      "cell_type": "markdown",
      "metadata": {
        "id": "0xAsXqhTRiL5"
      },
      "source": [
        "**Checking out the Clustered Images**\n",
        "\n",
        "\n",
        "> The *cluster_labels* table shows the cluster that each image from the 500 images belongs to\n",
        "\n"
      ]
    },
    {
      "cell_type": "code",
      "metadata": {
        "colab": {
          "base_uri": "https://localhost:8080/"
        },
        "id": "h4iZ-2EsPQQG",
        "outputId": "8c880959-92b9-42f1-d7cf-03282769227d"
      },
      "source": [
        "cluster_labels=kmeans.fit_predict(vgg16_feature_list_np)\n",
        "cluster_labels"
      ],
      "execution_count": 19,
      "outputs": [
        {
          "output_type": "execute_result",
          "data": {
            "text/plain": [
              "array([2, 3, 3, 5, 2, 2, 4, 5, 3, 1, 3, 2, 0, 4, 2, 4, 2, 0, 1, 5, 4, 2,\n",
              "       0, 2, 2, 5, 2, 2, 4, 0, 2, 4, 2, 2, 1, 0, 4, 3, 1, 2, 2, 0, 2, 0,\n",
              "       1, 1, 1, 3, 2, 1, 3, 4, 1, 4, 3, 0, 3, 1, 4, 4, 2, 2, 1, 3, 1, 0,\n",
              "       1, 0, 2, 3, 2, 2, 5, 2, 4, 1, 2, 2, 5, 1, 0, 0, 5, 3, 1, 0, 0, 1,\n",
              "       5, 1, 3, 0, 2, 1, 1, 4, 0, 5, 4, 2, 2, 1, 0, 2, 2, 3, 4, 4, 0, 0,\n",
              "       0, 3, 2, 1, 2, 2, 1, 0, 0, 0, 2, 1, 5, 4, 2, 5, 4, 2, 0, 1, 3, 1,\n",
              "       4, 3, 0, 3, 3, 2, 5, 3, 2, 2, 1, 4, 2, 2, 2, 2, 4, 2, 3, 0, 3, 2,\n",
              "       0, 0, 2, 0, 4, 2, 1, 0, 2, 4, 0, 2, 1, 3, 2, 2, 2, 1, 2, 0, 3, 2,\n",
              "       2, 5, 2, 2, 1, 4, 1, 1, 2, 2, 3, 3, 2, 2, 2, 2, 2, 2, 3, 2, 0, 2,\n",
              "       5, 2, 2, 3, 2, 1, 2, 0, 2, 3, 1, 2, 1, 2, 2, 0, 3, 0, 4, 3, 0, 0,\n",
              "       2, 2, 2, 1, 0, 0, 2, 1, 5, 3, 4, 3, 2, 2, 4, 2, 0, 0, 2, 2, 0, 2,\n",
              "       1, 2, 4, 0, 0, 1, 1, 0, 2, 0, 1, 2, 3, 0, 0, 2, 0, 2, 0, 5, 1, 2,\n",
              "       4, 1, 4, 2, 1, 2, 2, 2, 0, 2, 3, 2, 3, 2, 0, 3, 4, 4, 2, 1, 2, 5,\n",
              "       5, 2, 1, 0, 4, 2, 3, 4, 2, 3, 0, 0, 3, 0, 3, 0, 4, 2, 2, 0, 2, 2,\n",
              "       1, 2, 3, 5, 1, 1, 0, 1, 5, 2, 2, 1, 4, 0, 1, 2, 2, 0, 5, 1, 4, 1,\n",
              "       1, 2, 2, 2, 4, 1, 2, 1, 1, 2, 0, 2, 4, 0, 2, 3, 2, 2, 2, 2, 0, 1,\n",
              "       2, 0, 5, 2, 3, 5, 2, 0, 2, 1, 1, 4, 2, 4, 1, 1, 1, 5, 1, 2, 3, 4,\n",
              "       2, 2, 4, 3, 3, 1, 2, 0, 4, 2, 5, 2, 2, 5, 0, 4, 2, 5, 1, 1, 0, 2,\n",
              "       4, 4, 1, 1, 3, 0, 3, 5, 0, 5, 0, 2, 2, 0, 2, 1, 1, 0, 0, 1, 4, 5,\n",
              "       4, 2, 0, 0, 0, 1, 2, 2, 2, 2, 4, 5, 0, 2, 1, 0, 1, 2, 2, 0, 4, 0,\n",
              "       2, 3, 0, 1, 1, 3, 2, 2, 2, 0, 1, 2, 5, 2, 2, 0, 0, 2, 0, 2, 3, 3,\n",
              "       2, 0, 0, 0, 5, 1, 3, 4, 5, 1, 2, 0, 0, 2, 0, 2, 3, 5, 1, 4, 0, 0,\n",
              "       3, 1, 2, 4, 4, 2, 2, 3, 0, 2, 1, 2, 1, 0, 0, 2], dtype=int32)"
            ]
          },
          "metadata": {},
          "execution_count": 19
        }
      ]
    },
    {
      "cell_type": "markdown",
      "metadata": {
        "id": "Zl8ErcHiazNi"
      },
      "source": [
        "Finding Indexes of Each Cluster "
      ]
    },
    {
      "cell_type": "code",
      "metadata": {
        "id": "FESLlFYnZRem"
      },
      "source": [
        "class0_idx=[]\n",
        "class1_idx=[]\n",
        "class2_idx=[]\n",
        "class3_idx=[]\n",
        "class4_idx=[]\n",
        "class5_idx=[]\n",
        "for i in range(len(cluster_labels)):\n",
        "  if cluster_labels[i]==0:\n",
        "    class0_idx.append(i)\n",
        "  elif cluster_labels[i]==1:\n",
        "    class1_idx.append(i)\n",
        "  elif cluster_labels[i]==2:\n",
        "    class2_idx.append(i)\n",
        "  elif cluster_labels[i]==3:\n",
        "    class3_idx.append(i)\n",
        "  elif cluster_labels[i]==4:\n",
        "    class4_idx.append(i)\n",
        "  elif cluster_labels[i]==5:\n",
        "    class5_idx.append(i)\n"
      ],
      "execution_count": 20,
      "outputs": []
    },
    {
      "cell_type": "markdown",
      "metadata": {
        "id": "zl-YaWyPYSwU"
      },
      "source": [
        "**Frequency of each Cluster**"
      ]
    },
    {
      "cell_type": "code",
      "metadata": {
        "colab": {
          "base_uri": "https://localhost:8080/"
        },
        "id": "6kHBJ4k_WUVG",
        "outputId": "1eef4aee-a58c-40ee-826a-214ba0e00d42"
      },
      "source": [
        "\n",
        "unique, counts = np.unique(cluster_labels, return_counts=True)\n",
        "\n",
        "print(np.asarray((unique, counts)))"
      ],
      "execution_count": 21,
      "outputs": [
        {
          "output_type": "stream",
          "name": "stdout",
          "text": [
            "[[  0   1   2   3   4   5]\n",
            " [ 99  86 168  57  55  35]]\n"
          ]
        }
      ]
    },
    {
      "cell_type": "markdown",
      "metadata": {
        "id": "pF9OdikhYd0e"
      },
      "source": [
        "**Plotting Cluster 5**"
      ]
    },
    {
      "cell_type": "code",
      "metadata": {
        "colab": {
          "base_uri": "https://localhost:8080/"
        },
        "id": "IDJMJphhed0K",
        "outputId": "5663499b-81d7-4dc3-deb0-f8eb5e42e039"
      },
      "source": [
        "class5_idx[0:7]"
      ],
      "execution_count": 22,
      "outputs": [
        {
          "output_type": "execute_result",
          "data": {
            "text/plain": [
              "[3, 7, 19, 25, 72, 78, 82]"
            ]
          },
          "metadata": {},
          "execution_count": 22
        }
      ]
    },
    {
      "cell_type": "code",
      "metadata": {
        "colab": {
          "base_uri": "https://localhost:8080/",
          "height": 116
        },
        "id": "WbHDmrDgRUmi",
        "outputId": "69505c59-d8f5-4568-d1f4-3cb7ab6f43ce"
      },
      "source": [
        "fig = plt.figure(figsize=(10, 7))\n",
        "fig.add_subplot(1, 7, 1)\n",
        "plt.imshow(worm_pix_normd[3])\n",
        "plt.axis('off')\n",
        "\n",
        "\n",
        "fig.add_subplot(1, 7, 2)\n",
        "plt.imshow(worm_pix_normd[7])\n",
        "plt.axis('off')\n",
        "\n",
        "\n",
        "fig.add_subplot(1, 7, 3)\n",
        "plt.imshow(worm_pix_normd[19])\n",
        "plt.axis('off')\n",
        "\n",
        "\n",
        "fig.add_subplot(1, 7, 4)\n",
        "plt.imshow(worm_pix_normd[25])\n",
        "plt.axis('off')\n",
        "\n",
        "fig.add_subplot(1, 7, 5)\n",
        "plt.imshow(worm_pix_normd[72])\n",
        "plt.axis('off')\n",
        "\n",
        "\n",
        "fig.add_subplot(1, 7, 6)\n",
        "plt.imshow(worm_pix_normd[78])\n",
        "plt.axis('off')\n",
        "\n",
        "\n",
        "fig.add_subplot(1, 7, 7)\n",
        "plt.imshow(worm_pix_normd[82])\n",
        "plt.axis('off')\n"
      ],
      "execution_count": 23,
      "outputs": [
        {
          "output_type": "execute_result",
          "data": {
            "text/plain": [
              "(-0.5, 223.5, 223.5, -0.5)"
            ]
          },
          "metadata": {},
          "execution_count": 23
        },
        {
          "output_type": "display_data",
          "data": {
            "image/png": "[encoded data removed]",
            "text/plain": [
              "<Figure size 720x504 with 7 Axes>"
            ]
          },
          "metadata": {
            "needs_background": "light"
          }
        }
      ]
    },
    {
      "cell_type": "markdown",
      "metadata": {
        "id": "wxSd_mmhZCq-"
      },
      "source": [
        "**Plotting Cluster 0**"
      ]
    },
    {
      "cell_type": "code",
      "metadata": {
        "colab": {
          "base_uri": "https://localhost:8080/"
        },
        "id": "DQKNJOfofAsc",
        "outputId": "25472a2a-4401-44d9-e53e-9862dc193b0e"
      },
      "source": [
        "class0_idx[0:7]"
      ],
      "execution_count": 24,
      "outputs": [
        {
          "output_type": "execute_result",
          "data": {
            "text/plain": [
              "[12, 17, 22, 29, 35, 41, 43]"
            ]
          },
          "metadata": {},
          "execution_count": 24
        }
      ]
    },
    {
      "cell_type": "code",
      "metadata": {
        "colab": {
          "base_uri": "https://localhost:8080/",
          "height": 116
        },
        "id": "mMouqx1KXwZG",
        "outputId": "81c72b20-cf15-4de2-bbde-60536f604584"
      },
      "source": [
        "fig = plt.figure(figsize=(10, 7))\n",
        "fig.add_subplot(1, 7, 1)\n",
        "plt.imshow(worm_pix_normd[12])\n",
        "plt.axis('off')\n",
        "\n",
        "\n",
        "fig.add_subplot(1, 7, 2)\n",
        "plt.imshow(worm_pix_normd[17])\n",
        "plt.axis('off')\n",
        "\n",
        "\n",
        "fig.add_subplot(1, 7, 3)\n",
        "plt.imshow(worm_pix_normd[22])\n",
        "plt.axis('off')\n",
        "\n",
        "\n",
        "fig.add_subplot(1, 7, 4)\n",
        "plt.imshow(worm_pix_normd[29])\n",
        "plt.axis('off')\n",
        "\n",
        "fig.add_subplot(1, 7, 5)\n",
        "plt.imshow(worm_pix_normd[35])\n",
        "plt.axis('off')\n",
        "\n",
        "fig.add_subplot(1, 7, 6)\n",
        "plt.imshow(worm_pix_normd[41])\n",
        "plt.axis('off')\n",
        "\n",
        "fig.add_subplot(1, 7, 7)\n",
        "plt.imshow(worm_pix_normd[43])\n",
        "plt.axis('off')"
      ],
      "execution_count": 25,
      "outputs": [
        {
          "output_type": "execute_result",
          "data": {
            "text/plain": [
              "(-0.5, 223.5, 223.5, -0.5)"
            ]
          },
          "metadata": {},
          "execution_count": 25
        },
        {
          "output_type": "display_data",
          "data": {
            "image/png": "[encoded data removed]",
            "text/plain": [
              "<Figure size 720x504 with 7 Axes>"
            ]
          },
          "metadata": {
            "needs_background": "light"
          }
        }
      ]
    },
    {
      "cell_type": "markdown",
      "metadata": {
        "id": "nQzndy0mcZ9O"
      },
      "source": [
        "**Plotting Cluster 2**"
      ]
    },
    {
      "cell_type": "code",
      "metadata": {
        "colab": {
          "base_uri": "https://localhost:8080/"
        },
        "id": "n7xY9JGQdu1L",
        "outputId": "530e546f-a05d-4ffc-e21b-7f591a54222d"
      },
      "source": [
        "class2_idx[0:7]"
      ],
      "execution_count": 26,
      "outputs": [
        {
          "output_type": "execute_result",
          "data": {
            "text/plain": [
              "[0, 4, 5, 11, 14, 16, 21]"
            ]
          },
          "metadata": {},
          "execution_count": 26
        }
      ]
    },
    {
      "cell_type": "code",
      "metadata": {
        "colab": {
          "base_uri": "https://localhost:8080/",
          "height": 116
        },
        "id": "KzVr2bN6a8Nj",
        "outputId": "b4cfb5a2-7872-4406-986b-6efbfa5631cd"
      },
      "source": [
        "fig = plt.figure(figsize=(10, 7))\n",
        "fig.add_subplot(1, 7, 1)\n",
        "plt.imshow(worm_pix_normd[0])\n",
        "plt.axis('off')\n",
        "\n",
        "\n",
        "fig.add_subplot(1, 7, 2)\n",
        "plt.imshow(worm_pix_normd[4])\n",
        "plt.axis('off')\n",
        "\n",
        "\n",
        "fig.add_subplot(1, 7, 3)\n",
        "plt.imshow(worm_pix_normd[5])\n",
        "plt.axis('off')\n",
        "\n",
        "\n",
        "fig.add_subplot(1, 7, 4)\n",
        "plt.imshow(worm_pix_normd[11])\n",
        "plt.axis('off')\n",
        "\n",
        "fig.add_subplot(1, 7, 5)\n",
        "plt.imshow(worm_pix_normd[14])\n",
        "plt.axis('off')\n",
        "\n",
        "fig.add_subplot(1, 7, 6)\n",
        "plt.imshow(worm_pix_normd[16])\n",
        "plt.axis('off')\n",
        "\n",
        "fig.add_subplot(1, 7, 7)\n",
        "plt.imshow(worm_pix_normd[21])\n",
        "plt.axis('off')"
      ],
      "execution_count": 27,
      "outputs": [
        {
          "output_type": "execute_result",
          "data": {
            "text/plain": [
              "(-0.5, 223.5, 223.5, -0.5)"
            ]
          },
          "metadata": {},
          "execution_count": 27
        },
        {
          "output_type": "display_data",
          "data": {
            "image/png": "[encoded data removed]",
            "text/plain": [
              "<Figure size 720x504 with 7 Axes>"
            ]
          },
          "metadata": {
            "needs_background": "light"
          }
        }
      ]
    },
    {
      "cell_type": "markdown",
      "metadata": {
        "id": "dggmYuJTdBsV"
      },
      "source": [
        "**Cluster 4**"
      ]
    },
    {
      "cell_type": "code",
      "metadata": {
        "colab": {
          "base_uri": "https://localhost:8080/"
        },
        "id": "9C-UtCCaaFvt",
        "outputId": "0b0782fe-1e10-4ee7-8438-1f3a9deca48d"
      },
      "source": [
        "class4_idx[0:7]"
      ],
      "execution_count": 28,
      "outputs": [
        {
          "output_type": "execute_result",
          "data": {
            "text/plain": [
              "[6, 13, 15, 20, 28, 31, 36]"
            ]
          },
          "metadata": {},
          "execution_count": 28
        }
      ]
    },
    {
      "cell_type": "code",
      "metadata": {
        "colab": {
          "base_uri": "https://localhost:8080/",
          "height": 116
        },
        "id": "6BUNCQIQcxJR",
        "outputId": "a2a1d7c5-7665-41bc-9992-5a19362d8204"
      },
      "source": [
        "fig = plt.figure(figsize=(10, 7))\n",
        "fig.add_subplot(1, 7, 1)\n",
        "plt.imshow(worm_pix_normd[6])\n",
        "plt.axis('off')\n",
        "\n",
        "\n",
        "fig.add_subplot(1, 7, 2)\n",
        "plt.imshow(worm_pix_normd[13])\n",
        "plt.axis('off')\n",
        "\n",
        "\n",
        "fig.add_subplot(1, 7, 3)\n",
        "plt.imshow(worm_pix_normd[15])\n",
        "plt.axis('off')\n",
        "\n",
        "\n",
        "fig.add_subplot(1, 7, 4)\n",
        "plt.imshow(worm_pix_normd[20])\n",
        "plt.axis('off')\n",
        "\n",
        "fig.add_subplot(1, 7, 5)\n",
        "plt.imshow(worm_pix_normd[28])\n",
        "plt.axis('off')\n",
        "\n",
        "fig.add_subplot(1, 7, 6)\n",
        "plt.imshow(worm_pix_normd[31])\n",
        "plt.axis('off')\n",
        "\n",
        "fig.add_subplot(1, 7, 7)\n",
        "plt.imshow(worm_pix_normd[36])\n",
        "plt.axis('off')"
      ],
      "execution_count": 30,
      "outputs": [
        {
          "output_type": "execute_result",
          "data": {
            "text/plain": [
              "(-0.5, 223.5, 223.5, -0.5)"
            ]
          },
          "metadata": {},
          "execution_count": 30
        },
        {
          "output_type": "display_data",
          "data": {
            "image/png": "[encoded data removed]",
            "text/plain": [
              "<Figure size 720x504 with 7 Axes>"
            ]
          },
          "metadata": {
            "needs_background": "light"
          }
        }
      ]
    },
    {
      "cell_type": "markdown",
      "metadata": {
        "id": "HhKaW2OsdhQe"
      },
      "source": [
        "**Cluster 1**"
      ]
    },
    {
      "cell_type": "code",
      "metadata": {
        "colab": {
          "base_uri": "https://localhost:8080/"
        },
        "id": "OUk1ugm0eE3I",
        "outputId": "dff9094d-cf24-40a9-e7bf-abae58134046"
      },
      "source": [
        "class1_idx[0:7]"
      ],
      "execution_count": 31,
      "outputs": [
        {
          "output_type": "execute_result",
          "data": {
            "text/plain": [
              "[9, 18, 34, 38, 44, 45, 46]"
            ]
          },
          "metadata": {},
          "execution_count": 31
        }
      ]
    },
    {
      "cell_type": "code",
      "metadata": {
        "colab": {
          "base_uri": "https://localhost:8080/",
          "height": 116
        },
        "id": "nukhQdoKdN3O",
        "outputId": "f824be93-6f1f-4936-8d61-9b322decab73"
      },
      "source": [
        "fig = plt.figure(figsize=(10, 7))\n",
        "fig.add_subplot(1, 7, 1)\n",
        "plt.imshow(worm_pix_normd[9])\n",
        "plt.axis('off')\n",
        "\n",
        "\n",
        "fig.add_subplot(1, 7, 2)\n",
        "plt.imshow(worm_pix_normd[18])\n",
        "plt.axis('off')\n",
        "\n",
        "\n",
        "fig.add_subplot(1, 7, 3)\n",
        "plt.imshow(worm_pix_normd[34])\n",
        "plt.axis('off')\n",
        "\n",
        "\n",
        "fig.add_subplot(1, 7, 4)\n",
        "plt.imshow(worm_pix_normd[38])\n",
        "plt.axis('off')\n",
        "\n",
        "fig.add_subplot(1, 7, 5)\n",
        "plt.imshow(worm_pix_normd[44])\n",
        "plt.axis('off')\n",
        "\n",
        "fig.add_subplot(1, 7, 6)\n",
        "plt.imshow(worm_pix_normd[45])\n",
        "plt.axis('off')\n",
        "\n",
        "fig.add_subplot(1, 7, 7)\n",
        "plt.imshow(worm_pix_normd[46])\n",
        "plt.axis('off')"
      ],
      "execution_count": 33,
      "outputs": [
        {
          "output_type": "execute_result",
          "data": {
            "text/plain": [
              "(-0.5, 223.5, 223.5, -0.5)"
            ]
          },
          "metadata": {},
          "execution_count": 33
        },
        {
          "output_type": "display_data",
          "data": {
            "image/png": "[encoded data removed]",
            "text/plain": [
              "<Figure size 720x504 with 7 Axes>"
            ]
          },
          "metadata": {
            "needs_background": "light"
          }
        }
      ]
    },
    {
      "cell_type": "markdown",
      "metadata": {
        "id": "saHf1h9ueVDF"
      },
      "source": [
        "**Cluster 3**"
      ]
    },
    {
      "cell_type": "code",
      "metadata": {
        "colab": {
          "base_uri": "https://localhost:8080/"
        },
        "id": "OTBSkVOheOmR",
        "outputId": "521a1955-2796-4ea6-c16c-d0c4ee55c0f2"
      },
      "source": [
        "class3_idx[0:7]"
      ],
      "execution_count": 34,
      "outputs": [
        {
          "output_type": "execute_result",
          "data": {
            "text/plain": [
              "[1, 2, 8, 10, 37, 47, 50]"
            ]
          },
          "metadata": {},
          "execution_count": 34
        }
      ]
    },
    {
      "cell_type": "code",
      "metadata": {
        "colab": {
          "base_uri": "https://localhost:8080/",
          "height": 116
        },
        "id": "Fug8cEEBeWCj",
        "outputId": "1c79a58f-b484-406e-f7ad-6ca806cd8658"
      },
      "source": [
        "fig = plt.figure(figsize=(10, 7))\n",
        "fig.add_subplot(1, 7, 1)\n",
        "plt.imshow(worm_pix_normd[1])\n",
        "plt.axis('off')\n",
        "\n",
        "\n",
        "fig.add_subplot(1, 7, 2)\n",
        "plt.imshow(worm_pix_normd[2])\n",
        "plt.axis('off')\n",
        "\n",
        "\n",
        "fig.add_subplot(1, 7, 3)\n",
        "plt.imshow(worm_pix_normd[8])\n",
        "plt.axis('off')\n",
        "\n",
        "\n",
        "fig.add_subplot(1, 7, 4)\n",
        "plt.imshow(worm_pix_normd[10])\n",
        "plt.axis('off')\n",
        "\n",
        "fig.add_subplot(1, 7, 5)\n",
        "plt.imshow(worm_pix_normd[37])\n",
        "plt.axis('off')\n",
        "\n",
        "fig.add_subplot(1, 7, 6)\n",
        "plt.imshow(worm_pix_normd[47])\n",
        "plt.axis('off')\n",
        "\n",
        "fig.add_subplot(1, 7, 7)\n",
        "plt.imshow(worm_pix_normd[50])\n",
        "plt.axis('off')"
      ],
      "execution_count": 35,
      "outputs": [
        {
          "output_type": "execute_result",
          "data": {
            "text/plain": [
              "(-0.5, 223.5, 223.5, -0.5)"
            ]
          },
          "metadata": {},
          "execution_count": 35
        },
        {
          "output_type": "display_data",
          "data": {
            "image/png": "[encoded data removed]",
            "text/plain": [
              "<Figure size 720x504 with 7 Axes>"
            ]
          },
          "metadata": {
            "needs_background": "light"
          }
        }
      ]
    },
    {
      "cell_type": "code",
      "metadata": {
        "id": "QTly9YcOfSxq"
      },
      "source": [
        ""
      ],
      "execution_count": null,
      "outputs": []
    }
  ]
}